{
 "cells": [
  {
   "cell_type": "raw",
   "id": "156a7d46-17aa-41b9-a02d-b55cc5880d45",
   "metadata": {},
   "source": [
    "---\n",
    "title: \"OSD2025 Quarto demo with knitr engine\"\n",
    "author: \"Eline Van Geert and Lisa Koßmann\"\n",
    "date: today\n",
    "format:\n",
    "    html:\n",
    "        code-fold: show\n",
    "        embed-resources: true\n",
    "    pdf: default\n",
    "    docx: default\n",
    "execute: \n",
    "  warning: false\n",
    "bibliography: references.bib\n",
    "---"
   ]
  },
  {
   "cell_type": "markdown",
   "id": "28f2ecbb-9468-45a2-ae96-2f37cc6ae3f6",
   "metadata": {},
   "source": [
    "### Add a heading in your document\n",
    "\n",
    "This is a sentence with some **bold text**, *italic text*, `code`, and a [link](https://quarto.org/).\n",
    "\n",
    "![The Quarto logo](figs/quartologo.png){#fig-quarto width=\"20%\" fig-align=\"left\"}\n",
    "\n",
    "See @fig-quarto for the Quarto logo.\n",
    "@eq-mean gives the formula for the population mean:"
   ]
  },
  {
   "cell_type": "markdown",
   "id": "525d852a-748b-443c-a9b4-19a38e398798",
   "metadata": {},
   "source": [
    "$$\n",
    "\\mu = \\frac{\\sum x}{N} \n",
    "$$ {#eq-mean}"
   ]
  },
  {
   "cell_type": "markdown",
   "id": "ad71711c-2f8d-47d7-a0a1-d6371d2a8d8e",
   "metadata": {},
   "source": [
    "@sec-code shows how to add R or Python code chunks.\n",
    "\n",
    "The palmerpenguins package was developed by @horst2020. We will create a document using Quarto [@quarto] and R [@R] or Python [@Python].\n",
    "\n",
    "This sentence ends with a footnote.[^1]\n",
    "\n",
    "[^1]: This is an example footnote.\n",
    "\n",
    "## Add R/Python code chunks {#sec-code}\n",
    "\n",
    "::: panel-tabset\n",
    "\n",
    "## Add R code\n"
   ]
  },
  {
   "cell_type": "code",
   "execution_count": 18,
   "id": "83f5aa07-4dfd-4dfc-84ae-0e7400cd49c1",
   "metadata": {},
   "outputs": [
    {
     "name": "stderr",
     "output_type": "stream",
     "text": [
      "Warning message:\n",
      "\"Removed 2 rows containing missing values (geom_point).\""
     ]
    },
    {
     "data": {
      "image/png": "[encoded data removed]",
      "text/plain": [
       "plot without title"
      ]
     },
     "metadata": {},
     "output_type": "display_data"
    }
   ],
   "source": [
    "#| label: fig-scatterplot-r\n",
    "#| fig-cap: \"Scatterplot of flipper and bill lengths in R\"\n",
    "\n",
    "library(palmerpenguins) # for data\n",
    "library(tidyverse)      # for data wrangling and visualization\n",
    "library(knitr)          # for tables\n",
    "\n",
    "library(IRdisplay)\n",
    "\n",
    "#install.packages(\"palmerpenguins\", repos = \"http://cran.us.r-project.org\")\n",
    "\n",
    "ggplot(data = penguins, \n",
    "       aes(x = flipper_length_mm, y = bill_length_mm)) +  \n",
    "       geom_point(aes(color = species, shape = species)) "
   ]
  },
  {
   "cell_type": "markdown",
   "id": "d61fa612-fa3d-4d9d-a7b1-4a57124eb3d3",
   "metadata": {},
   "source": [
    ":::\n",
    "\n",
    "## Add inline code\n",
    "\n",
    "The palmerpenguins package contains data for `{r} nrow(penguins)` penguins.\n",
    "\n",
    "## Add tables\n",
    "\n",
    "@tbl-md and @tbl-r, show different table options in Quarto.\n",
    "\n",
    "::: panel-tabset"
   ]
  },
  {
   "cell_type": "markdown",
   "id": "dab4bb24-bfa7-44d0-82f5-218c6e01b694",
   "metadata": {},
   "source": [
    "## Markdown\n"
   ]
  },
  {
   "cell_type": "markdown",
   "id": "a1db6099-e762-460b-97f6-e66b0a6d5d3a",
   "metadata": {},
   "source": [
    "\n",
    "``` markdown\n",
    "| fruit  | price |\n",
    "|--------|-------|\n",
    "| apple  | 2.05  |\n",
    "| pear   | 1.37  |\n",
    "| orange | 3.09  |\n",
    "\n",
    ": Fruit prices {#tbl-md .striped .hover}\n",
    "``` \n",
    "\n",
    "| fruit  | price |\n",
    "|--------|-------|\n",
    "| apple  | 2.05  |\n",
    "| pear   | 1.37  |\n",
    "| orange | 3.09  |\n",
    "\n",
    ": Fruit prices {#tbl-md .striped .hover}\n"
   ]
  },
  {
   "cell_type": "markdown",
   "id": "5197d146-5a90-4738-8060-9b49c7709f87",
   "metadata": {},
   "source": [
    "## R"
   ]
  },
  {
   "cell_type": "code",
   "execution_count": 40,
   "id": "667ef98e-119a-40ca-8923-803dd5c0dcc2",
   "metadata": {},
   "outputs": [
    {
     "data": {
      "text/html": [
       "<table>\n",
       "<thead><tr><th scope=col>species</th><th scope=col>Mean bill length</th><th scope=col>Min bill length</th><th scope=col>Max bill length</th><th scope=col>Mean flipper length</th><th scope=col>Min flipper length</th><th scope=col>Max flipper length</th><th scope=col>Correlation, r</th></tr></thead>\n",
       "<tbody>\n",
       "\t<tr><td>Adelie   </td><td>38.79    </td><td>32.1     </td><td>46.0     </td><td>189.95   </td><td>172      </td><td>210      </td><td>0.33     </td></tr>\n",
       "\t<tr><td>Chinstrap</td><td>48.83    </td><td>40.9     </td><td>58.0     </td><td>195.82   </td><td>178      </td><td>212      </td><td>0.47     </td></tr>\n",
       "\t<tr><td>Gentoo   </td><td>47.50    </td><td>40.9     </td><td>59.6     </td><td>217.19   </td><td>203      </td><td>231      </td><td>0.66     </td></tr>\n",
       "</tbody>\n",
       "</table>\n"
      ],
      "text/latex": [
       "\\begin{tabular}{r|llllllll}\n",
       " species & Mean bill length & Min bill length & Max bill length & Mean flipper length & Min flipper length & Max flipper length & Correlation, r\\\\\n",
       "\\hline\n",
       "\t Adelie    & 38.79     & 32.1      & 46.0      & 189.95    & 172       & 210       & 0.33     \\\\\n",
       "\t Chinstrap & 48.83     & 40.9      & 58.0      & 195.82    & 178       & 212       & 0.47     \\\\\n",
       "\t Gentoo    & 47.50     & 40.9      & 59.6      & 217.19    & 203       & 231       & 0.66     \\\\\n",
       "\\end{tabular}\n"
      ],
      "text/markdown": [
       "\n",
       "| species | Mean bill length | Min bill length | Max bill length | Mean flipper length | Min flipper length | Max flipper length | Correlation, r |\n",
       "|---|---|---|---|---|---|---|---|\n",
       "| Adelie    | 38.79     | 32.1      | 46.0      | 189.95    | 172       | 210       | 0.33      |\n",
       "| Chinstrap | 48.83     | 40.9      | 58.0      | 195.82    | 178       | 212       | 0.47      |\n",
       "| Gentoo    | 47.50     | 40.9      | 59.6      | 217.19    | 203       | 231       | 0.66      |\n",
       "\n"
      ],
      "text/plain": [
       "  species   Mean bill length Min bill length Max bill length\n",
       "1 Adelie    38.79            32.1            46.0           \n",
       "2 Chinstrap 48.83            40.9            58.0           \n",
       "3 Gentoo    47.50            40.9            59.6           \n",
       "  Mean flipper length Min flipper length Max flipper length Correlation, r\n",
       "1 189.95              172                210                0.33          \n",
       "2 195.82              178                212                0.47          \n",
       "3 217.19              203                231                0.66          "
      ]
     },
     "metadata": {},
     "output_type": "display_data"
    }
   ],
   "source": [
    "#| label: tbl-r\n",
    "#| tbl-cap: \"Summary statistics for flipper and bill lengths\"\n",
    "#| output: asis\n",
    "\n",
    "penguins %>%\n",
    "  group_by(species) %>%\n",
    "  summarise(\n",
    "    `Mean bill length` = mean(bill_length_mm, na.rm = T) %>% round(2),\n",
    "    `Min bill length` = min(bill_length_mm, na.rm = T) %>% round(2),\n",
    "    `Max bill length` = max(bill_length_mm, na.rm = T) %>% round(2),\n",
    "    `Mean flipper length` = mean(flipper_length_mm, na.rm = T) %>% round(2),\n",
    "    `Min flipper length` = min(flipper_length_mm, na.rm = T) %>% round(2),\n",
    "    `Max flipper length` = max(flipper_length_mm, na.rm = T) %>% round(2),\n",
    "    `Correlation, r` = cor(flipper_length_mm, bill_length_mm, use = \"complete\") %>% round(2)\n",
    "    ) \n"
   ]
  },
  {
   "cell_type": "markdown",
   "id": "a55628d6-5c35-49cb-a2ed-db0460e7089a",
   "metadata": {},
   "source": [
    "::: \n",
    "\n",
    "\n",
    "## References {.unnumbered}"
   ]
  }
 ],
 "metadata": {
  "kernelspec": {
   "display_name": "R",
   "language": "R",
   "name": "ir"
  },
  "language_info": {
   "codemirror_mode": "r",
   "file_extension": ".r",
   "mimetype": "text/x-r-source",
   "name": "R",
   "pygments_lexer": "r",
   "version": "3.6.1"
  }
 },
 "nbformat": 4,
 "nbformat_minor": 5
}
